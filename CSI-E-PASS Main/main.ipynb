{
 "cells": [
  {
   "cell_type": "code",
   "execution_count": 1,
   "metadata": {},
   "outputs": [
    {
     "name": "stdout",
     "output_type": "stream",
     "text": [
      "Requirement already satisfied: pillow in c:\\users\\hp\\anaconda3\\lib\\site-packages (6.2.0)\n",
      "Note: you may need to restart the kernel to use updated packages.\n"
     ]
    },
    {
     "name": "stderr",
     "output_type": "stream",
     "text": [
      "WARNING: There was an error checking the latest version of pip.\n"
     ]
    }
   ],
   "source": [
    "pip install pillow"
   ]
  },
  {
   "cell_type": "code",
   "execution_count": 2,
   "metadata": {},
   "outputs": [],
   "source": [
    "import pandas as pd\n",
    "from PIL import Image, ImageDraw, ImageFont"
   ]
  },
  {
   "cell_type": "code",
   "execution_count": 3,
   "metadata": {},
   "outputs": [],
   "source": [
    "df = pd.read_csv(\"csi - 2.csv\")"
   ]
  },
  {
   "cell_type": "code",
   "execution_count": 4,
   "metadata": {},
   "outputs": [
    {
     "data": {
      "text/html": [
       "<div>\n",
       "<style scoped>\n",
       "    .dataframe tbody tr th:only-of-type {\n",
       "        vertical-align: middle;\n",
       "    }\n",
       "\n",
       "    .dataframe tbody tr th {\n",
       "        vertical-align: top;\n",
       "    }\n",
       "\n",
       "    .dataframe thead th {\n",
       "        text-align: right;\n",
       "    }\n",
       "</style>\n",
       "<table border=\"1\" class=\"dataframe\">\n",
       "  <thead>\n",
       "    <tr style=\"text-align: right;\">\n",
       "      <th></th>\n",
       "      <th>id</th>\n",
       "      <th>name</th>\n",
       "      <th>email</th>\n",
       "      <th>year</th>\n",
       "    </tr>\n",
       "  </thead>\n",
       "  <tbody>\n",
       "    <tr>\n",
       "      <td>0</td>\n",
       "      <td>01JST20IS032</td>\n",
       "      <td>NITHIN PATHIKONDA</td>\n",
       "      <td>nithin.mahesh.pathikonda@gmail.com</td>\n",
       "      <td>2024</td>\n",
       "    </tr>\n",
       "    <tr>\n",
       "      <td>1</td>\n",
       "      <td>01JCE21CS066</td>\n",
       "      <td>NEHA DAYANAND</td>\n",
       "      <td>nehadayanand1234@gmail.com</td>\n",
       "      <td>2025</td>\n",
       "    </tr>\n",
       "    <tr>\n",
       "      <td>2</td>\n",
       "      <td>01JCE21CS075</td>\n",
       "      <td>Pratik Rajput</td>\n",
       "      <td>prateekrjt14@gmail.com</td>\n",
       "      <td>2025</td>\n",
       "    </tr>\n",
       "    <tr>\n",
       "      <td>3</td>\n",
       "      <td>01JST19CS151</td>\n",
       "      <td>Stuti Srinath</td>\n",
       "      <td>stutiisrinath@gmail.com</td>\n",
       "      <td>2024</td>\n",
       "    </tr>\n",
       "    <tr>\n",
       "      <td>4</td>\n",
       "      <td>01JCE21CS067</td>\n",
       "      <td>Niranjan P</td>\n",
       "      <td>niranjan.p2302@gmail.com</td>\n",
       "      <td>2025</td>\n",
       "    </tr>\n",
       "    <tr>\n",
       "      <td>...</td>\n",
       "      <td>...</td>\n",
       "      <td>...</td>\n",
       "      <td>...</td>\n",
       "      <td>...</td>\n",
       "    </tr>\n",
       "    <tr>\n",
       "      <td>76</td>\n",
       "      <td>01JST20IS026</td>\n",
       "      <td>Navneet Swaraj</td>\n",
       "      <td>navneetswarj149@gmail.com</td>\n",
       "      <td>2024</td>\n",
       "    </tr>\n",
       "    <tr>\n",
       "      <td>77</td>\n",
       "      <td>01JST20CS020</td>\n",
       "      <td>Ankitha K</td>\n",
       "      <td>ankithakoopu@gmail.com</td>\n",
       "      <td>2024</td>\n",
       "    </tr>\n",
       "    <tr>\n",
       "      <td>78</td>\n",
       "      <td>01JST20CS142</td>\n",
       "      <td>Sanika S Tuppad</td>\n",
       "      <td>sanika7302@gmail.com</td>\n",
       "      <td>2024</td>\n",
       "    </tr>\n",
       "    <tr>\n",
       "      <td>79</td>\n",
       "      <td>01JCE21EE024</td>\n",
       "      <td>Meghana S</td>\n",
       "      <td>ganapathigajanana137@gmail.com</td>\n",
       "      <td>2025</td>\n",
       "    </tr>\n",
       "    <tr>\n",
       "      <td>80</td>\n",
       "      <td>01JST21CS062</td>\n",
       "      <td>Krishna S Luthria</td>\n",
       "      <td>krishnasluthria@gmail.com</td>\n",
       "      <td>2025</td>\n",
       "    </tr>\n",
       "  </tbody>\n",
       "</table>\n",
       "<p>81 rows × 4 columns</p>\n",
       "</div>"
      ],
      "text/plain": [
       "               id                name                               email  \\\n",
       "0    01JST20IS032  NITHIN PATHIKONDA   nithin.mahesh.pathikonda@gmail.com   \n",
       "1    01JCE21CS066      NEHA DAYANAND          nehadayanand1234@gmail.com    \n",
       "2    01JCE21CS075       Pratik Rajput              prateekrjt14@gmail.com   \n",
       "3   01JST19CS151       Stuti Srinath             stutiisrinath@gmail.com    \n",
       "4    01JCE21CS067          Niranjan P            niranjan.p2302@gmail.com   \n",
       "..            ...                 ...                                 ...   \n",
       "76   01JST20IS026      Navneet Swaraj           navneetswarj149@gmail.com   \n",
       "77   01JST20CS020           Ankitha K              ankithakoopu@gmail.com   \n",
       "78  01JST20CS142     Sanika S Tuppad                sanika7302@gmail.com    \n",
       "79   01JCE21EE024           Meghana S      ganapathigajanana137@gmail.com   \n",
       "80   01JST21CS062  Krishna S Luthria           krishnasluthria@gmail.com    \n",
       "\n",
       "    year  \n",
       "0   2024  \n",
       "1   2025  \n",
       "2   2025  \n",
       "3   2024  \n",
       "4   2025  \n",
       "..   ...  \n",
       "76  2024  \n",
       "77  2024  \n",
       "78  2024  \n",
       "79  2025  \n",
       "80  2025  \n",
       "\n",
       "[81 rows x 4 columns]"
      ]
     },
     "execution_count": 4,
     "metadata": {},
     "output_type": "execute_result"
    }
   ],
   "source": [
    "df"
   ]
  },
  {
   "cell_type": "code",
   "execution_count": 5,
   "metadata": {},
   "outputs": [],
   "source": [
    "records = df.to_dict(orient='record')"
   ]
  },
  {
   "cell_type": "code",
   "execution_count": 6,
   "metadata": {},
   "outputs": [],
   "source": [
    "font = ImageFont.truetype(\"OpenSans-Semibold.ttf\", size=35)\n",
    "font2 = ImageFont.truetype(\"OpenSans-Semibold.ttf\", size=45)\n",
    "font3 = ImageFont.truetype(\"OpenSans-Semibold.ttf\", size=40)"
   ]
  },
  {
   "cell_type": "code",
   "execution_count": 7,
   "metadata": {},
   "outputs": [],
   "source": [
    "def generate_card(data):\n",
    "    template = Image.open(\"template.png\")\n",
    "    draw = ImageDraw.Draw(template)\n",
    "    draw.text((445, 153), str(data['id']), font=font, fill='black')\n",
    "    draw.text((335, 270), data['name'], font=font2, fill='black')\n",
    "    draw.text((365,333), str('(')+str(data['year'])+str(')'), font=font3, fill='black')\n",
    "    return template"
   ]
  },
  {
   "cell_type": "code",
   "execution_count": 8,
   "metadata": {},
   "outputs": [],
   "source": [
    "for record in records:\n",
    "    card = generate_card(record)\n",
    "    card.save(f\"CSI/{record['name']}.png\")"
   ]
  },
  {
   "cell_type": "code",
   "execution_count": null,
   "metadata": {},
   "outputs": [],
   "source": []
  }
 ],
 "metadata": {
  "kernelspec": {
   "display_name": "Python 3.7.4 ('base')",
   "language": "python",
   "name": "python3"
  },
  "language_info": {
   "codemirror_mode": {
    "name": "ipython",
    "version": 3
   },
   "file_extension": ".py",
   "mimetype": "text/x-python",
   "name": "python",
   "nbconvert_exporter": "python",
   "pygments_lexer": "ipython3",
   "version": "3.7.4"
  },
  "vscode": {
   "interpreter": {
    "hash": "b1e6b76b6e736d29445d5c5f779c1dafb0f59893c5766b7198bc0a87a8e7acf4"
   }
  }
 },
 "nbformat": 4,
 "nbformat_minor": 2
}
